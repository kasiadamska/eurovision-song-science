{
 "cells": [
  {
   "cell_type": "markdown",
   "metadata": {
    "id": "pDkuBqTo_r2N"
   },
   "source": [
    "# Audio Feature Extraction with Essentia"
   ]
  },
  {
   "cell_type": "code",
   "execution_count": null,
   "metadata": {
    "id": "9kdMd-yRet7O"
   },
   "outputs": [],
   "source": [
    "!pip install numpy==1.24.3\n",
    "!pip install essentia"
   ]
  },
  {
   "cell_type": "markdown",
   "metadata": {
    "id": "8FSUYBNI_w1i"
   },
   "source": [
    "1. Load audio files, for example google drive or any other directory"
   ]
  },
  {
   "cell_type": "code",
   "execution_count": null,
   "metadata": {
    "id": "o2eTzmPOeYCw"
   },
   "outputs": [],
   "source": [
    "from google.colab import drive\n",
    "import os, sys\n",
    "drive.mount('/content/drive')\n",
    "os.chdir(\"/content/drive/My Drive/...\")\n",
    "path = '/content/drive/My Drive/...'\n",
    "os.listdir(path)"
   ]
  },
  {
   "cell_type": "markdown",
   "metadata": {
    "id": "qnmgI19z_5HM"
   },
   "source": [
    "2. Create list of mp3 files"
   ]
  },
  {
   "cell_type": "code",
   "execution_count": null,
   "metadata": {
    "colab": {
     "base_uri": "https://localhost:8080/"
    },
    "id": "HRmWWGS9zmNM",
    "outputId": "fa1d4c9c-9306-44e8-d523-23eabfc5fd69"
   },
   "outputs": [],
   "source": [
    "file_names = os.listdir(path)\n",
    "print(len(file_names))\n",
    "mp3_files = [file for file in file_names if file.endswith('.mp3')]\n",
    "print(len(mp3_files))\n",
    "print(mp3_files)"
   ]
  },
  {
   "cell_type": "markdown",
   "metadata": {
    "id": "2uOaf27k_9FU"
   },
   "source": [
    "3. Extract audio features for all mp3 files"
   ]
  },
  {
   "cell_type": "code",
   "execution_count": null,
   "metadata": {
    "colab": {
     "base_uri": "https://localhost:8080/"
    },
    "id": "dd3ryzkfzmS6",
    "outputId": "a8eb4fc1-1a3f-4c6f-a181-94fd18dce15b"
   },
   "outputs": [],
   "source": [
    "import essentia\n",
    "import essentia.standard as es\n",
    "import pandas as pd\n",
    "from tqdm import tqdm\n",
    "\n",
    "\n",
    "# List to hold dictionaries of features for each file\n",
    "all_features = []\n",
    "\n",
    "# Loop over each file to compute features\n",
    "for audiofile in tqdm(mp3_files, desc='Processing Audio Files'):\n",
    "    features, features_frames = es.MusicExtractor(lowlevelStats=['mean', 'stdev'],\n",
    "                                                  rhythmStats=['mean', 'stdev'],\n",
    "                                                  tonalStats=['mean', 'stdev'])(audiofile)\n",
    "\n",
    "    #metadata\n",
    "    file_name = features['metadata.tags.file_name']\n",
    "    length = features['metadata.audio_properties.length']\n",
    "    #rhythm\n",
    "    bpm = features['rhythm.bpm']\n",
    "    beats_count = features['rhythm.beats_count']\n",
    "    beats_loudness = features['rhythm.beats_loudness.mean']\n",
    "    danceability = features['rhythm.danceability']\n",
    "    onset_rate = features['rhythm.onset_rate']\n",
    "    #tonal\n",
    "    chords_changes_rate = features['tonal.chords_changes_rate']\n",
    "    chords_number_rate = features['tonal.chords_number_rate']\n",
    "    chords_strength = features['tonal.chords_strength.mean']\n",
    "    hpcp_crest = features['tonal.hpcp_crest.mean']\n",
    "    hpcp_entropy = features['tonal.hpcp_entropy.mean']\n",
    "    tuning_diatonic_strength = features['tonal.tuning_diatonic_strength']\n",
    "    tuning_equal_tempered_deviation = features['tonal.tuning_equal_tempered_deviation']\n",
    "    tuning_frequency = features['tonal.tuning_frequency']\n",
    "    tuning_nontempered_energy_ratio = features['tonal.tuning_nontempered_energy_ratio']\n",
    "    chords_key = features['tonal.chords_key']\n",
    "    chords_scale = features['tonal.chords_scale']\n",
    "    key_edma_strength = features['tonal.key_edma.strength']\n",
    "    key_edma_key = features['tonal.key_edma.key']\n",
    "    key_edma_scale = features['tonal.key_edma.scale']\n",
    "    key_krumhansl_strength = features['tonal.key_krumhansl.strength']\n",
    "    key_krumhansl_key = features['tonal.key_krumhansl.key']\n",
    "    key_krumhansl_scale = features['tonal.key_krumhansl.scale']\n",
    "    key_temperley_strength = features['tonal.key_temperley.strength']\n",
    "    key_temperley_key = features['tonal.key_temperley.key']\n",
    "    key_temperley_scale = features['tonal.key_temperley.scale']\n",
    "    #low-level\n",
    "    average_loudness = features['lowlevel.average_loudness']\n",
    "    barkbands_crest = features['lowlevel.barkbands_crest.mean']\n",
    "    barkbands_flatness_db = features['lowlevel.barkbands_flatness_db.mean']\n",
    "    barkbands_kurtosis = features['lowlevel.barkbands_kurtosis.mean']\n",
    "    barkbands_skewness = features['lowlevel.barkbands_skewness.mean']\n",
    "    barkbands_spread = features['lowlevel.barkbands_spread.mean']\n",
    "    dissonance = features['lowlevel.dissonance.mean']\n",
    "    dynamic_complexity = features['lowlevel.dynamic_complexity']\n",
    "    erbbands_crest = features['lowlevel.erbbands_crest.mean']\n",
    "    erbbands_flatness_db = features['lowlevel.erbbands_flatness_db.mean']\n",
    "    erbbands_kurtosis = features['lowlevel.erbbands_kurtosis.mean']\n",
    "    erbbands_skewness = features['lowlevel.erbbands_skewness.mean']\n",
    "    erbbands_spread = features['lowlevel.erbbands_spread.mean']\n",
    "    hfc = features['lowlevel.hfc.mean']\n",
    "    loudness_ebu128_int = features['lowlevel.loudness_ebu128.integrated']\n",
    "    loudness_ebu128_range = features['lowlevel.loudness_ebu128.loudness_range']\n",
    "    melbands_crest = features['lowlevel.melbands_crest.mean']\n",
    "    melbands_flatness_db = features['lowlevel.melbands_flatness_db.mean']\n",
    "    melbands_kurtosis = features['lowlevel.melbands_kurtosis.mean']\n",
    "    melbands_skewness = features['lowlevel.melbands_skewness.mean']\n",
    "    melbands_spread = features['lowlevel.melbands_spread.mean']\n",
    "    pitch_salience = features['lowlevel.pitch_salience.mean']\n",
    "    spectral_centroid = features['lowlevel.spectral_centroid.mean']\n",
    "    spectral_complexity = features['lowlevel.spectral_complexity.mean']\n",
    "    spectral_decrease = features['lowlevel.spectral_decrease.mean']\n",
    "    spectral_energy = features['lowlevel.spectral_energy.mean']\n",
    "    spectral_energyband_high = features['lowlevel.spectral_energyband_high.mean']\n",
    "    spectral_energyband_low = features['lowlevel.spectral_energyband_low.mean']\n",
    "    spectral_energyband_middle_high = features['lowlevel.spectral_energyband_middle_high.mean']\n",
    "    spectral_energyband_middle_low = features['lowlevel.spectral_energyband_middle_low.mean']\n",
    "    spectral_entropy = features['lowlevel.spectral_entropy.mean']\n",
    "    spectral_flux = features['lowlevel.spectral_flux.mean']\n",
    "    spectral_kurtosis = features['lowlevel.spectral_kurtosis.mean']\n",
    "    spectral_rms = features['lowlevel.spectral_rms.mean']\n",
    "    spectral_rolloff = features['lowlevel.spectral_rolloff.mean']\n",
    "    spectral_skewness = features['lowlevel.spectral_skewness.mean']\n",
    "    spectral_spread = features['lowlevel.spectral_spread.mean']\n",
    "    spectral_strongpeak = features['lowlevel.spectral_strongpeak.mean']\n",
    "    zerocrossingrate = features['lowlevel.zerocrossingrate.mean']\n",
    "\n",
    "    feature_dict = {\n",
    "        'file_name': file_name,\n",
    "        'length(s)': length,\n",
    "        'bpm': bpm,\n",
    "        'beats_count': beats_count,\n",
    "        'beats_loudness': beats_loudness,\n",
    "        'danceability': danceability,\n",
    "        'onset_rate': onset_rate,\n",
    "        'chords_changes_rate':chords_changes_rate,\n",
    "        'chords_number_rate': chords_number_rate,\n",
    "        'chords_strength': chords_strength,\n",
    "        'hpcp_crest': hpcp_crest,\n",
    "        'hpcp_entropy': hpcp_entropy,\n",
    "        'tuning_diatonic_strength':tuning_diatonic_strength,\n",
    "        'tuning_equal_tempered_deviation':tuning_equal_tempered_deviation,\n",
    "        'tuning_frequency':tuning_frequency,\n",
    "        'tuning_nontempered_energy_ratio':tuning_nontempered_energy_ratio,\n",
    "        'chords_key': chords_key,\n",
    "        'chords_scale':chords_scale,\n",
    "        'key_edma_strength': key_edma_strength,\n",
    "        'key_edma_key':key_edma_key,\n",
    "        'key_edma_scale':key_edma_scale,\n",
    "        'key_krumhansl_strength':key_krumhansl_strength,\n",
    "        'key_krumhansl_key':key_krumhansl_key,\n",
    "        'key_krumhansl_scale':key_krumhansl_scale,\n",
    "        'key_temperley_strength':key_temperley_strength,\n",
    "        'key_temperley_key':key_temperley_key,\n",
    "        'key_temperley_scale':key_temperley_scale,\n",
    "        'average_loudness': average_loudness,\n",
    "        'barkbands_crest': barkbands_crest,\n",
    "        'barkbands_flatness_db': barkbands_flatness_db,\n",
    "        'barkbands_kurtosis': barkbands_kurtosis,\n",
    "        'barkbands_skewness': barkbands_skewness,\n",
    "        'barkbands_spread':barkbands_spread,\n",
    "        'dissonance': dissonance,\n",
    "        'dynamic_complexity':dynamic_complexity,\n",
    "        'erbbands_crest': erbbands_crest,\n",
    "        'erbbands_flatness_db':erbbands_flatness_db,\n",
    "        'erbbands_kurtosis':erbbands_kurtosis,\n",
    "        'erbbands_skewness':erbbands_skewness,\n",
    "        'erbbands_spread':erbbands_spread,\n",
    "        'hfc':hfc,\n",
    "        'loudness_ebu128_int':loudness_ebu128_int,\n",
    "        'loudness_ebu128_range':loudness_ebu128_range,\n",
    "        'melbands_crest':melbands_crest,\n",
    "        'melbands_flatness_db':melbands_flatness_db,\n",
    "        'melbands_kurtosis':melbands_kurtosis,\n",
    "        'melbands_skewness':melbands_skewness,\n",
    "        'melbands_spread':melbands_spread,\n",
    "        'pitch_salience':pitch_salience,\n",
    "        'spectral_centroid': spectral_centroid,\n",
    "        'spectral_complexity': spectral_complexity,\n",
    "        'spectral_decrease': spectral_decrease,\n",
    "        'spectral_energy': spectral_energy,\n",
    "        'spectral_energyband_high': spectral_energyband_high,\n",
    "        'spectral_energyband_low': spectral_energyband_low,\n",
    "        'spectral_energyband_middle_high': spectral_energyband_middle_high,\n",
    "        'spectral_energyband_middle_low': spectral_energyband_middle_low,\n",
    "        'spectral_entropy': spectral_entropy,\n",
    "        'spectral_flux': spectral_flux,\n",
    "        'spectral_kurtosis': spectral_kurtosis,\n",
    "        'spectral_rms':spectral_rms,\n",
    "        'spectral_rolloff':spectral_rolloff,\n",
    "        'spectral_skewness': spectral_skewness,\n",
    "        'spectral_spread': spectral_spread,\n",
    "        'spectral_strongpeak': spectral_strongpeak,\n",
    "        'zerocrossingrate': zerocrossingrate }\n",
    "\n",
    "    all_features.append(feature_dict)\n",
    "\n",
    "    #print(audiofile + \" Done!\")\n",
    "# Create DataFrame from the list of dictionaries\n",
    "df = pd.DataFrame(all_features)"
   ]
  },
  {
   "cell_type": "markdown",
   "metadata": {
    "id": "8xYL36yhAHLb"
   },
   "source": [
    "4. Save to csv file."
   ]
  },
  {
   "cell_type": "code",
   "execution_count": null,
   "metadata": {
    "id": "KrJZjJHc8PVY"
   },
   "outputs": [],
   "source": [
    "df.to_csv('25audio_features.csv')"
   ]
  },
  {
   "cell_type": "markdown",
   "metadata": {
    "id": "7mk81LnRrn7k"
   },
   "source": [
    "### Additional features\n",
    "- mfcc and gfcc coefficients\n",
    "- spectral contrast\n",
    "- beats loudness band ratio\n",
    "- chords histogram\n",
    "- silence rate"
   ]
  },
  {
   "cell_type": "code",
   "execution_count": null,
   "metadata": {
    "colab": {
     "base_uri": "https://localhost:8080/"
    },
    "id": "TA3Mu7-FsIru",
    "outputId": "c4b923e4-998c-4b30-d7e6-23bb70dda0e8"
   },
   "outputs": [],
   "source": [
    "import numpy as np\n",
    "import pandas as pd\n",
    "from tqdm import tqdm\n",
    "import essentia\n",
    "import essentia.standard as es\n",
    "\n",
    "#Store all rows here\n",
    "data = []\n",
    "\n",
    "#Loop through all files with progress tracking\n",
    "for audiofile in tqdm(mp3_files, desc=\"Processing audio files\"):\n",
    "    try:\n",
    "        features, features_frames = es.MusicExtractor(lowlevelStats=['mean', 'stdev'],\n",
    "                                                      rhythmStats=['mean', 'stdev'],\n",
    "                                                      tonalStats=['mean', 'stdev'])(audiofile)\n",
    "\n",
    "        # Arrays\n",
    "        mfcc = features['lowlevel.mfcc.mean']\n",
    "        gfcc = features['lowlevel.gfcc.mean']\n",
    "        spectral_contrast_coeffs = features['lowlevel.spectral_contrast_coeffs.mean']\n",
    "        spectral_contrast_valleys = features['lowlevel.spectral_contrast_valleys.mean']\n",
    "        beats_loudness_band_ratio = features['rhythm.beats_loudness_band_ratio.mean']\n",
    "        chords_histogram = features['tonal.chords_histogram']\n",
    "\n",
    "        # Single values\n",
    "        silence_rate_20dB = features['lowlevel.silence_rate_20dB.mean']\n",
    "        silence_rate_30dB = features['lowlevel.silence_rate_30dB.mean']\n",
    "        silence_rate_60dB = features['lowlevel.silence_rate_60dB.mean']\n",
    "\n",
    "        # Build row\n",
    "        row = list(mfcc) + list(gfcc) + list(spectral_contrast_coeffs) + \\\n",
    "              list(spectral_contrast_valleys) + list(beats_loudness_band_ratio) + \\\n",
    "              list(chords_histogram) + \\\n",
    "              [silence_rate_20dB, silence_rate_30dB, silence_rate_60dB, audiofile]\n",
    "\n",
    "        data.append(row)\n",
    "\n",
    "    except Exception as e:\n",
    "        print(f\"❌ Error processing {audiofile}: {e}\")\n",
    "\n",
    "# Create DataFrame and save\n",
    "columns = [\n",
    "    'mfcc_0', 'mfcc_1', 'mfcc_2', 'mfcc_3', 'mfcc_4', 'mfcc_5', 'mfcc_6', 'mfcc_7', 'mfcc_8', 'mfcc_9',\n",
    "    'mfcc_10', 'mfcc_11', 'mfcc_12',\n",
    "    'gfcc_0', 'gfcc_1', 'gfcc_2', 'gfcc_3', 'gfcc_4', 'gfcc_5', 'gfcc_6', 'gfcc_7', 'gfcc_8', 'gfcc_9',\n",
    "    'gfcc_10', 'gfcc_11', 'gfcc_12',\n",
    "    'spectral_contrast_coeffs_0', 'spectral_contrast_coeffs_1', 'spectral_contrast_coeffs_2',\n",
    "    'spectral_contrast_coeffs_3', 'spectral_contrast_coeffs_4', 'spectral_contrast_coeffs_5',\n",
    "    'spectral_contrast_valleys_0', 'spectral_contrast_valleys_1', 'spectral_contrast_valleys_2',\n",
    "    'spectral_contrast_valleys_3', 'spectral_contrast_valleys_4', 'spectral_contrast_valleys_5',\n",
    "    'beats_loudness_band_ratio_0', 'beats_loudness_band_ratio_1', 'beats_loudness_band_ratio_2',\n",
    "    'beats_loudness_band_ratio_3', 'beats_loudness_band_ratio_4', 'beats_loudness_band_ratio_5',\n",
    "    'chords_histogram_0', 'chords_histogram_1', 'chords_histogram_2', 'chords_histogram_3',\n",
    "    'chords_histogram_4', 'chords_histogram_5', 'chords_histogram_6', 'chords_histogram_7',\n",
    "    'chords_histogram_8', 'chords_histogram_9', 'chords_histogram_10', 'chords_histogram_11',\n",
    "    'chords_histogram_12', 'chords_histogram_13', 'chords_histogram_14', 'chords_histogram_15',\n",
    "    'chords_histogram_16', 'chords_histogram_17', 'chords_histogram_18', 'chords_histogram_19',\n",
    "    'chords_histogram_20', 'chords_histogram_21', 'chords_histogram_22', 'chords_histogram_23',\n",
    "    'silence_rate_20dB', 'silence_rate_30dB', 'silence_rate_60dB',\n",
    "    'filename'\n",
    "]\n",
    "\n",
    "# Assuming 'data' is a list of lists, where each list contains features followed by filename\n",
    "df = pd.DataFrame(data, columns=columns)\n",
    "df.to_csv(\"new_audio_features.csv\", index=False)\n",
    "print(\"✅ Features saved to new_audio_features.csv\")\n"
   ]
  }
 ],
 "metadata": {
  "colab": {
   "collapsed_sections": [
    "2uOaf27k_9FU",
    "bH6f2S7oAOA2"
   ],
   "provenance": []
  },
  "kernelspec": {
   "display_name": "Python 3 (ipykernel)",
   "language": "python",
   "name": "python3"
  },
  "language_info": {
   "codemirror_mode": {
    "name": "ipython",
    "version": 3
   },
   "file_extension": ".py",
   "mimetype": "text/x-python",
   "name": "python",
   "nbconvert_exporter": "python",
   "pygments_lexer": "ipython3",
   "version": "3.9.7"
  }
 },
 "nbformat": 4,
 "nbformat_minor": 1
}
